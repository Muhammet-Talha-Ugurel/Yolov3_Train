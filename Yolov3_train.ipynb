{
  "nbformat": 4,
  "nbformat_minor": 0,
  "metadata": {
    "colab": {
      "name": "Yolov3_train.ipynb",
      "provenance": [],
      "authorship_tag": "ABX9TyNvpZs9f1Ed1LcNZafRjYEJ"
    },
    "kernelspec": {
      "name": "python3",
      "display_name": "Python 3"
    },
    "accelerator": "GPU"
  },
  "cells": [
    {
      "cell_type": "markdown",
      "metadata": {
        "id": "Yqkdg62wUvfq"
      },
      "source": [
        "Darknet reposunu clonlayıp set ediyoruz"
      ]
    },
    {
      "cell_type": "code",
      "metadata": {
        "id": "y-TFwjRhSIwY"
      },
      "source": [
        "#clone darknet repo.\n",
        "!git clone https://github.com/AlexeyAB/darknet"
      ],
      "execution_count": null,
      "outputs": []
    },
    {
      "cell_type": "code",
      "metadata": {
        "id": "DGpGaWtBUu4e"
      },
      "source": [
        "# GPU ve opencv yi aktif etmek için make dosyasını edit ediyor.\n",
        "%cd darknet\n",
        "!sed -i 's/OPENCV=0/OPENCV=1/' Makefile\n",
        "!sed -i 's/GPU=0/GPU=1/' Makefile\n",
        "!sed -i 's/CUDNN=0/CUDNN=1/' Makefile"
      ],
      "execution_count": null,
      "outputs": []
    },
    {
      "cell_type": "code",
      "metadata": {
        "id": "8UJjZMr4UykR"
      },
      "source": [
        "# CUNDA test komutu.\n",
        "!/usr/local/cuda/bin/nvcc --version"
      ],
      "execution_count": null,
      "outputs": []
    },
    {
      "cell_type": "code",
      "metadata": {
        "id": "Ysprap1GVTfK"
      },
      "source": [
        "# make dosyasının çalıştıtrıyor.\n",
        "!make"
      ],
      "execution_count": null,
      "outputs": []
    },
    {
      "cell_type": "markdown",
      "metadata": {
        "id": "MD7LoiYfXFo0"
      },
      "source": [
        "Yolov3 clonlanıyor"
      ]
    },
    {
      "cell_type": "code",
      "metadata": {
        "id": "AbLYo_1xXDXu"
      },
      "source": [
        "# önceden eğitilmiş yolov3 wehits doyasını indiriyor.\n",
        "!wget https://pjreddie.com/media/files/yolov3.weights"
      ],
      "execution_count": null,
      "outputs": []
    },
    {
      "cell_type": "markdown",
      "metadata": {
        "id": "h18r6QAbJKjJ"
      },
      "source": [
        "Dosya yüklemek indirmek ve resimleri göstermek için yardımcı fonksiyonlar."
      ]
    },
    {
      "cell_type": "code",
      "metadata": {
        "id": "z2uGsJKPZE0N"
      },
      "source": [
        "# yardımcı fonksiyonlar.\n",
        "def imShow(path):\n",
        "  import cv2\n",
        "  import matplotlib.pyplot as plt\n",
        "  %matplotlib inline\n",
        " \n",
        "  image = cv2.imread(path)\n",
        "  height, width = image.shape[:2]\n",
        "  resized_image = cv2.resize(image,(3*width, 3*height), interpolation = cv2.INTER_CUBIC)\n",
        " \n",
        "  fig = plt.gcf()\n",
        "  fig.set_size_inches(18, 10)\n",
        "  plt.axis(\"off\")\n",
        "  plt.imshow(cv2.cvtColor(resized_image, cv2.COLOR_BGR2RGB))\n",
        "  plt.show()\n",
        " \n",
        "def upload():\n",
        "  from google.colab import files\n",
        "  uploaded = files.upload() \n",
        "  for name, data in uploaded.items():\n",
        "    with open(name, 'wb') as f:\n",
        "      f.write(data)\n",
        "      print ('saved file', name)\n",
        " \n",
        "def download(path):\n",
        "  from google.colab import files\n",
        "  files.download(path)"
      ],
      "execution_count": null,
      "outputs": []
    },
    {
      "cell_type": "markdown",
      "metadata": {
        "id": "RVA43oMBKFZJ"
      },
      "source": [
        "Dataset ile yoloyu eğitmek için ön hazırlıkar."
      ]
    },
    {
      "cell_type": "code",
      "metadata": {
        "id": "VJgK6j9c7d5e"
      },
      "source": [
        "%cd ..\n",
        "from google.colab import drive\n",
        "drive.mount('/content/gdrive')"
      ],
      "execution_count": null,
      "outputs": []
    },
    {
      "cell_type": "code",
      "metadata": {
        "id": "tZ4L4hD3H70b"
      },
      "source": [
        "# /content/gdrive/My\\ Drive/ adresini /mydrive adında bir link oluşturuyor.\n",
        "!ln -s /content/gdrive/My\\ Drive/ /mydrive\n",
        "!ls /mydrive"
      ],
      "execution_count": null,
      "outputs": []
    },
    {
      "cell_type": "code",
      "metadata": {
        "id": "WXLbnWs2J3f7"
      },
      "source": [
        "# .zip dosyasını cloud VM e kopyalıyor.\n",
        "!cp /mydrive/yolov3/obj.zip ../"
      ],
      "execution_count": null,
      "outputs": []
    },
    {
      "cell_type": "code",
      "metadata": {
        "id": "jkUOoPC0KDa4"
      },
      "source": [
        "# unzip ediyor.\n",
        "!unzip ../obj.zip -d data/"
      ],
      "execution_count": null,
      "outputs": []
    },
    {
      "cell_type": "code",
      "metadata": {
        "id": "fwzhn3KRKana"
      },
      "source": [
        "# config dosyasını drive yüklüyor ve ismini değiştiriyor.\n",
        "!cp /darknet/cfg/yolov3.cfg /mydrive/yolov3/yolov3_custom.cfg"
      ],
      "execution_count": null,
      "outputs": []
    },
    {
      "cell_type": "code",
      "metadata": {
        "id": "Oif6atPsKqt_"
      },
      "source": [
        "# config dosyasını isteğimize göre ayarladıkdan sonra geri yüklüyoruz.\n",
        "!cp /mydrive/yolov3/yolov3_custom.cfg ./darknet/cfg"
      ],
      "execution_count": null,
      "outputs": []
    },
    {
      "cell_type": "markdown",
      "metadata": {
        "id": "rdtQBnNULTnX"
      },
      "source": [
        "Name isimli dosyanın içeriği daha önce lable için olluşturduğumuz classes dosyası ile aynı olmalı."
      ]
    },
    {
      "cell_type": "markdown",
      "metadata": {
        "id": "jdgvN1-_LiiM"
      },
      "source": [
        "Data dosyası ise şu şekilde."
      ]
    },
    {
      "cell_type": "markdown",
      "metadata": {
        "id": "PKPPjlPyLnuM"
      },
      "source": [
        "*   classes = 5\n",
        "*   train = data/train.txt\n",
        "*   valid = data/test.txt\n",
        "*   names = data/obj.names\n",
        "*   backup = /mydrive/yolov3/backup\n",
        "\n",
        "\n",
        "\n",
        "\n",
        "\n"
      ]
    },
    {
      "cell_type": "code",
      "metadata": {
        "id": "FUai0HN8K7fa"
      },
      "source": [
        "# Drive nin içerisinde oluşturduğumuz names ve data isimli doyaları VM e yülüyor.\n",
        "!cp /mydrive/yolov3/obj.names ./data\n",
        "!cp /mydrive/yolov3/obj.data  ./data"
      ],
      "execution_count": null,
      "outputs": []
    },
    {
      "cell_type": "markdown",
      "metadata": {
        "id": "KWmXkoOGM6Nc"
      },
      "source": [
        "https://github.com/theAIGuysCode/YoloGenerateTrainingFile/blob/master/generate_train.py/\n",
        "bu repodaki scripti drive nın içine atıp altaki komutu çalıştırıyoruz."
      ]
    },
    {
      "cell_type": "code",
      "metadata": {
        "id": "cSERngNRMSxF"
      },
      "source": [
        "# VM e upload ediyoruz scripti.\n",
        "!cp /mydrive/yolov3/generate_train.py ./"
      ],
      "execution_count": null,
      "outputs": []
    },
    {
      "cell_type": "code",
      "metadata": {
        "id": "Cd3Kj2raNNgw"
      },
      "source": [
        "!python generate_train.py"
      ],
      "execution_count": null,
      "outputs": []
    },
    {
      "cell_type": "code",
      "metadata": {
        "id": "WXlAwW0V3P06"
      },
      "source": [
        "# upload pretrained convolutional layer weights\n",
        "!wget http://pjreddie.com/media/files/darknet53.conv.74"
      ],
      "execution_count": null,
      "outputs": []
    },
    {
      "cell_type": "markdown",
      "metadata": {
        "id": "6dzToXga3iRP"
      },
      "source": [
        "googlenin uyumasını engellmek için aşağıdaki javascripti kullanıyoruz."
      ]
    },
    {
      "cell_type": "code",
      "metadata": {
        "id": "Mf0lNAmm3hie"
      },
      "source": [
        "function ClickConnect(){\n",
        "console.log(\"Working\"); \n",
        "document.querySelector(\"colab-toolbar-button#connect\").click() \n",
        "}\n",
        "setInterval(ClickConnect,60000)"
      ],
      "execution_count": null,
      "outputs": []
    },
    {
      "cell_type": "code",
      "metadata": {
        "id": "Lhj_SPzO3wRM"
      },
      "source": [
        "# custom dedectörü eğitmeye başla.\n",
        "!./darknet/darknet detector train data/obj.data darknet/cfg/yolov3_custom.cfg darknet53.conv.74 -dont_show"
      ],
      "execution_count": null,
      "outputs": []
    },
    {
      "cell_type": "code",
      "metadata": {
        "id": "3JKo9Qpjwkqc"
      },
      "source": [
        "!./darknet/darknet detector train data/obj.data darknet/cfg/yolov3_custom.cfg /mydrive/yolov3/backup/yolov3_custom_last.weights -dont_show"
      ],
      "execution_count": null,
      "outputs": []
    },
    {
      "cell_type": "code",
      "metadata": {
        "id": "HIFF-elk3_sl"
      },
      "source": [
        "imShow('chart.png')"
      ],
      "execution_count": null,
      "outputs": []
    },
    {
      "cell_type": "markdown",
      "metadata": {
        "id": "9HnyJAec4N6p"
      },
      "source": [
        "RUN Time"
      ]
    },
    {
      "cell_type": "code",
      "metadata": {
        "id": "t-k1FMS44LTM"
      },
      "source": [
        "# need to set our custom cfg to test mode \n",
        "%cd content/darknet/cfg/\n",
        "!pwd\n",
        "!sed -i 's/batch=64/batch=1/' yolov3_custom.cfg\n",
        "!sed -i 's/subdivisions=16/subdivisions=1/' yolov3_custom.cfg\n",
        "%cd ..\n"
      ],
      "execution_count": null,
      "outputs": []
    },
    {
      "cell_type": "code",
      "metadata": {
        "id": "op54IKeMSxqm"
      },
      "source": [
        "%cd .."
      ],
      "execution_count": null,
      "outputs": []
    },
    {
      "cell_type": "code",
      "metadata": {
        "id": "ZRReC7oK4NQ4"
      },
      "source": [
        "# run your custom detector with this command (upload an image to your google drive to test, thresh flag sets accuracy that detection must be in order to show it)\n",
        "!./darknet/darknet detector test data/obj.data darknet/cfg/yolov3_custom.cfg /mydrive/yolov3/backup/yolov3_custom_last.weights /mydrive/yolov3/Test.jpg -thresh 0.3\n",
        "imShow('predictions.jpg')"
      ],
      "execution_count": null,
      "outputs": []
    }
  ]
}